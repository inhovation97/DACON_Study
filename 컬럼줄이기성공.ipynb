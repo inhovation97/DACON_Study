{
 "cells": [
  {
   "cell_type": "code",
   "execution_count": 1,
   "metadata": {},
   "outputs": [],
   "source": [
    "from sklearn.model_selection import KFold\n",
    "import lightgbm\n",
    "\n",
    "import multiprocessing \n",
    "from multiprocessing import Pool \n",
    "from functools import partial \n",
    "from data_loader_v2 import data_loader_v2\n",
    "import os \n",
    "import pandas as pd\n",
    "import numpy as np\n",
    "import joblib\n",
    "\n",
    "train_folder = '../데이콘 스터디/train/'\n",
    "test_folder = '../데이콘 스터디/test/'\n",
    "train_label_path = '../데이콘 스터디/train_label.csv'\n",
    "\n",
    "train_list = os.listdir(train_folder)\n",
    "test_list = os.listdir(test_folder)\n",
    "train_label = pd.read_csv(train_label_path, index_col=0)"
   ]
  },
  {
   "cell_type": "code",
   "execution_count": 2,
   "metadata": {},
   "outputs": [],
   "source": [
    "# 모든 csv 파일의 상태_B로 변화는 시점이 같다라고 가정\n",
    "# 하지만, 개별 csv파일의 상태_B로 변화는 시점은 상이할 수 있음\n",
    "\n",
    "\n",
    "def data_loader_all_v2(func, files, folder='', train_label=None, event_time=10, nrows=60):   \n",
    "    func_fixed = partial(func, folder=folder, train_label=train_label, event_time=event_time, nrows=nrows)  \n",
    "    if __name__ == '__main__':\n",
    "        pool = Pool(processes=multiprocessing.cpu_count()) \n",
    "        df_list = list(pool.imap(func_fixed, files)) \n",
    "        pool.close() \n",
    "        pool.join() \n",
    "    combined_df = pd.concat(df_list)    \n",
    "    return combined_df\n"
   ]
  },
  {
   "cell_type": "code",
   "execution_count": 3,
   "metadata": {},
   "outputs": [
    {
     "name": "stdout",
     "output_type": "stream",
     "text": [
      "--- 268.70541167259216, sconds ---\n"
     ]
    }
   ],
   "source": [
    "import time\n",
    "start_time = time.time()\n",
    "\n",
    "\n",
    "train = data_loader_all_v2(data_loader_v2, train_list, folder=train_folder, train_label=train_label, event_time=10, nrows=60)\n",
    "test = data_loader_all_v2(data_loader_v2, test_list, folder=test_folder, train_label=None, event_time=20, nrows=60)\n",
    "\n",
    "y = train['label']\n",
    "train.drop('label',axis=1,inplace=True)\n",
    "\n",
    "print(\"--- %s, sconds ---\" % (time.time()-start_time))"
   ]
  },
  {
   "cell_type": "code",
   "execution_count": 5,
   "metadata": {},
   "outputs": [
    {
     "data": {
      "text/plain": [
       "3326"
      ]
     },
     "execution_count": 5,
     "metadata": {},
     "output_type": "execute_result"
    }
   ],
   "source": [
    "train.loc[:, train.nunique() != 1].shape[1]"
   ]
  },
  {
   "cell_type": "code",
   "execution_count": 32,
   "metadata": {},
   "outputs": [],
   "source": [
    "train_2=train.loc[:, train.nunique() == 1]\n",
    "a=[]\n",
    "for i in range(train_2.shape[1]):\n",
    " a.append(train_2.iloc[:,i].std())\n"
   ]
  },
  {
   "cell_type": "code",
   "execution_count": 31,
   "metadata": {},
   "outputs": [
    {
     "data": {
      "text/plain": [
       "[6.208797501674418e-11,\n",
       " 1.310256648327721e-10,\n",
       " 1.53734885266912e-10,\n",
       " 3.981361199517292e-10,\n",
       " 3.981361199517292e-10,\n",
       " 3.981361199517292e-10,\n",
       " 3.981361199517292e-10,\n",
       " 8.112790839450428e-10,\n",
       " 8.112790839450428e-10,\n",
       " 2.2357832907141948e-07]"
      ]
     },
     "execution_count": 31,
     "metadata": {},
     "output_type": "execute_result"
    }
   ],
   "source": [
    "# nunique !=1 함수로 뽑은 컬럼의 값이 0이 아닌값들이 존재한다.\n",
    "a.sort()\n",
    "a[-10:]"
   ]
  },
  {
   "cell_type": "code",
   "execution_count": 39,
   "metadata": {},
   "outputs": [
    {
     "name": "stdout",
     "output_type": "stream",
     "text": [
      "nunique !=1 함수를 이용한 컬럼 개수 :  3326 \n",
      " std !=0 함수를 이용한 컬럼 개수 :  3416\n"
     ]
    }
   ],
   "source": [
    "## 값이 한개인 값을 제외한 컬럼을 뽑으면 3326개 < 편차가 0인 값을 제외한 컬럼을 뽑으면 3416\n",
    "## 아마 값이 미묘하게 다른데도 그 차이가 너무 작아서 nunique가 1로 나오는 듯\n",
    "\n",
    "print('nunique !=1 함수를 이용한 컬럼 개수 : ',train.loc[1,train.nunique()!=1].shape[1],\n",
    "      '\\n std !=0 함수를 이용한 컬럼 개수 : ',train.loc[1,train.std()!=0].shape[1])"
   ]
  },
  {
   "cell_type": "markdown",
   "metadata": {},
   "source": [
    "# nunique 함수로 쓸모 없는 컬럼을 제거하여 모델링 했을 때, 정확도가 떨어지는 문제점의 이유는 ?\n",
    "## **아주 미세하게 작은 값을 0이라고 인식하지 않는 nunique함수의 문제였음!**\n",
    "## **따라서 std=0 함수로 편차가 없는 컬럼을 전처리 했더니 베이직 랜덤 포레스트 모델의 정확도가 올라갔음**"
   ]
  }
 ],
 "metadata": {
  "kernelspec": {
   "display_name": "Python 3",
   "language": "python",
   "name": "python3"
  },
  "language_info": {
   "codemirror_mode": {
    "name": "ipython",
    "version": 3
   },
   "file_extension": ".py",
   "mimetype": "text/x-python",
   "name": "python",
   "nbconvert_exporter": "python",
   "pygments_lexer": "ipython3",
   "version": "3.7.7"
  }
 },
 "nbformat": 4,
 "nbformat_minor": 4
}
